{
 "cells": [
  {
   "cell_type": "markdown",
   "metadata": {
    "id": "SfwEUAWA3HAb"
   },
   "source": [
    "## Import Libraries"
   ]
  },
  {
   "cell_type": "code",
   "execution_count": 1,
   "metadata": {
    "id": "G7rHKL0KNteY"
   },
   "outputs": [],
   "source": [
    "import numpy as np\n",
    "import keras\n",
    "from  keras.preprocessing.text import Tokenizer\n",
    "from tensorflow.keras.preprocessing.sequence import pad_sequences\n",
    "import os\n",
    "import pandas as pd\n",
    "from keras.utils import to_categorical\n",
    "import matplotlib.pyplot as plt\n",
    "from sklearn.metrics import classification_report\n",
    "#import scikitplot\n",
    "#from scikitplot.metrics import plot_confusion_matrix"
   ]
  },
  {
   "cell_type": "markdown",
   "metadata": {
    "id": "r1dtvdVm3Wqq"
   },
   "source": [
    "# Create a Dataframe for reading and analysing the text files"
   ]
  },
  {
   "cell_type": "code",
   "execution_count": 2,
   "metadata": {
    "id": "uVI0V45VPqkH"
   },
   "outputs": [],
   "source": [
    "df_train = pd.read_csv('./Dataset/train.txt', header =None, sep =';', names = ['Input','sents'], encoding='utf-8')\n",
    "df_test = pd.read_csv('./Dataset/test.txt', header = None, sep =';', names = ['Input','sents'],encoding='utf-8')\n",
    "df_val=pd.read_csv('./Dataset/val.txt',header=None,sep=';',names=['Input','sents'],encoding='utf-8')"
   ]
  },
  {
   "cell_type": "code",
   "execution_count": 3,
   "metadata": {
    "id": "t5UXwqnoOkGV",
    "outputId": "2714606a-f695-45ff-c0d9-1d7234d37a6f"
   },
   "outputs": [
    {
     "data": {
      "text/plain": [
       "joy         5362\n",
       "sadness     4666\n",
       "anger       2159\n",
       "fear        1937\n",
       "love        1304\n",
       "surprise     572\n",
       "Name: sents, dtype: int64"
      ]
     },
     "execution_count": 3,
     "metadata": {},
     "output_type": "execute_result"
    }
   ],
   "source": [
    "df_train.sents.value_counts()"
   ]
  },
  {
   "cell_type": "markdown",
   "metadata": {
    "id": "weLVgoak3lR0"
   },
   "source": [
    "## Reading the Train and Validation Data"
   ]
  },
  {
   "cell_type": "code",
   "execution_count": 4,
   "metadata": {
    "id": "8jfpnq0qPEUF"
   },
   "outputs": [],
   "source": [
    "X=df_train['Input']\n"
   ]
  },
  {
   "cell_type": "code",
   "execution_count": 5,
   "metadata": {
    "id": "YsdBhABuRkc2"
   },
   "outputs": [],
   "source": [
    "lst=[]\n",
    "for i in X:\n",
    "  lst.append(len(i))\n"
   ]
  },
  {
   "cell_type": "code",
   "execution_count": 6,
   "metadata": {
    "id": "Lf_wMk5wR7Wd",
    "outputId": "0f7f1b70-bd55-428f-f798-89f8c2f998c0"
   },
   "outputs": [
    {
     "data": {
      "text/html": [
       "<div>\n",
       "<style scoped>\n",
       "    .dataframe tbody tr th:only-of-type {\n",
       "        vertical-align: middle;\n",
       "    }\n",
       "\n",
       "    .dataframe tbody tr th {\n",
       "        vertical-align: top;\n",
       "    }\n",
       "\n",
       "    .dataframe thead th {\n",
       "        text-align: right;\n",
       "    }\n",
       "</style>\n",
       "<table border=\"1\" class=\"dataframe\">\n",
       "  <thead>\n",
       "    <tr style=\"text-align: right;\">\n",
       "      <th></th>\n",
       "      <th>0</th>\n",
       "    </tr>\n",
       "  </thead>\n",
       "  <tbody>\n",
       "    <tr>\n",
       "      <th>count</th>\n",
       "      <td>16000.000000</td>\n",
       "    </tr>\n",
       "    <tr>\n",
       "      <th>mean</th>\n",
       "      <td>96.845812</td>\n",
       "    </tr>\n",
       "    <tr>\n",
       "      <th>std</th>\n",
       "      <td>55.904953</td>\n",
       "    </tr>\n",
       "    <tr>\n",
       "      <th>min</th>\n",
       "      <td>7.000000</td>\n",
       "    </tr>\n",
       "    <tr>\n",
       "      <th>25%</th>\n",
       "      <td>53.000000</td>\n",
       "    </tr>\n",
       "    <tr>\n",
       "      <th>50%</th>\n",
       "      <td>86.000000</td>\n",
       "    </tr>\n",
       "    <tr>\n",
       "      <th>75%</th>\n",
       "      <td>129.000000</td>\n",
       "    </tr>\n",
       "    <tr>\n",
       "      <th>max</th>\n",
       "      <td>300.000000</td>\n",
       "    </tr>\n",
       "  </tbody>\n",
       "</table>\n",
       "</div>"
      ],
      "text/plain": [
       "                  0\n",
       "count  16000.000000\n",
       "mean      96.845812\n",
       "std       55.904953\n",
       "min        7.000000\n",
       "25%       53.000000\n",
       "50%       86.000000\n",
       "75%      129.000000\n",
       "max      300.000000"
      ]
     },
     "execution_count": 6,
     "metadata": {},
     "output_type": "execute_result"
    }
   ],
   "source": [
    "len1=pd.DataFrame(lst)\n",
    "len1.describe()"
   ]
  },
  {
   "cell_type": "code",
   "execution_count": 7,
   "metadata": {
    "id": "JBAgUQh-1cCn"
   },
   "outputs": [],
   "source": [
    "cts=[]\n",
    "for i in range(7,301):\n",
    "   ct=0\n",
    "   for k in lst:\n",
    "     if k==i:\n",
    "       ct+=1\n",
    "   cts.append(ct)"
   ]
  },
  {
   "cell_type": "markdown",
   "metadata": {
    "id": "dwTyJqGO4JM0"
   },
   "source": [
    "# Trying to fix a length for the embedding layers' input"
   ]
  },
  {
   "cell_type": "code",
   "execution_count": 8,
   "metadata": {
    "id": "UOYkt05D2Pkc",
    "outputId": "fbb734a9-cd62-4f8e-aeb6-cfba165e505e"
   },
   "outputs": [
    {
     "data": {
      "image/png": "[encoded data removed]",
      "text/plain": [
       "<Figure size 640x480 with 1 Axes>"
      ]
     },
     "metadata": {},
     "output_type": "display_data"
    }
   ],
   "source": [
    "#layers like repeted word that complete the sentence (is, are, etc)\n",
    "plt.bar(range(7,301),cts)\n",
    "plt.show()"
   ]
  },
  {
   "cell_type": "markdown",
   "metadata": {
    "id": "Vkx0Skhw4RTE"
   },
   "source": [
    "# Using The tokenizer Class to convert the sentences into word vectors"
   ]
  },
  {
   "cell_type": "code",
   "execution_count": 9,
   "metadata": {
    "id": "HPqJjmc2Qd1q"
   },
   "outputs": [],
   "source": [
    "#levaing the last word cuz its empty '\\n'\n",
    "tokenizer=Tokenizer(15212,lower=True,oov_token='UNK')\n",
    "tokenizer.fit_on_texts(X)"
   ]
  },
  {
   "cell_type": "code",
   "execution_count": 47,
   "metadata": {
    "id": "QAR53xsMQ9hp",
    "outputId": "85afe77d-62ca-4db5-9030-985c63cccdf1"
   },
   "outputs": [],
   "source": [
    "#the size of fixed words after the fix\n",
    "words=len(tokenizer.word_index)"
   ]
  },
  {
   "cell_type": "code",
   "execution_count": 48,
   "metadata": {
    "id": "OPlKIuEJRHaJ"
   },
   "outputs": [],
   "source": [
    "X_train=tokenizer.texts_to_sequences(X)\n",
    "X_train_pad=pad_sequences(X_train,maxlen=80,padding='post')"
   ]
  },
  {
   "cell_type": "code",
   "execution_count": 49,
   "metadata": {
    "id": "klWThk5xSiTj"
   },
   "outputs": [],
   "source": [
    "df_train['sents']=df_train.sents.replace({'joy':0,'anger':1,'love':2,'sadness':3,'fear':4,'surprise':5})"
   ]
  },
  {
   "cell_type": "code",
   "execution_count": 50,
   "metadata": {
    "id": "IcB2LdpDTV1R"
   },
   "outputs": [],
   "source": [
    "Y_train=df_train['sents'].values\n"
   ]
  },
  {
   "cell_type": "markdown",
   "metadata": {
    "id": "1Nxr63i-4eWH"
   },
   "source": [
    "# One hot Encoding the Emotion Values"
   ]
  },
  {
   "cell_type": "code",
   "execution_count": 51,
   "metadata": {
    "id": "Cq4bajBpWKnU"
   },
   "outputs": [],
   "source": [
    "Y_train_f=to_categorical(Y_train)"
   ]
  },
  {
   "cell_type": "code",
   "execution_count": 52,
   "metadata": {
    "id": "jM-qVgjjXHlb",
    "outputId": "598f6ccc-4000-49a8-b46e-34b06d0fdd53"
   },
   "outputs": [
    {
     "data": {
      "text/plain": [
       "array([[0., 0., 0., 1., 0., 0.],\n",
       "       [0., 0., 0., 1., 0., 0.],\n",
       "       [0., 1., 0., 0., 0., 0.],\n",
       "       [0., 0., 1., 0., 0., 0.],\n",
       "       [0., 1., 0., 0., 0., 0.],\n",
       "       [0., 0., 0., 1., 0., 0.]], dtype=float32)"
      ]
     },
     "execution_count": 52,
     "metadata": {},
     "output_type": "execute_result"
    }
   ],
   "source": [
    "Y_train_f[:6]"
   ]
  },
  {
   "cell_type": "code",
   "execution_count": 53,
   "metadata": {
    "id": "PKJwSxEgYhay"
   },
   "outputs": [],
   "source": [
    "X_val=df_val['Input']\n",
    "Y_val=df_val.sents.replace({'joy':0,'anger':1,'love':2,'sadness':3,'fear':4,'surprise':5})"
   ]
  },
  {
   "cell_type": "code",
   "execution_count": 54,
   "metadata": {
    "id": "v-5tPraZYYH6"
   },
   "outputs": [],
   "source": [
    "X_val_f=tokenizer.texts_to_sequences(X_val)\n",
    "X_val_pad=pad_sequences(X_val_f,maxlen=80,padding='post')"
   ]
  },
  {
   "cell_type": "code",
   "execution_count": 55,
   "metadata": {
    "id": "rLIVsrvgZLu_"
   },
   "outputs": [],
   "source": [
    "Y_val_f=to_categorical(Y_val)"
   ]
  },
  {
   "cell_type": "code",
   "execution_count": 56,
   "metadata": {
    "id": "zKw08DYYZLxl",
    "outputId": "914b33da-9bc8-463f-f87d-281ba533a2f8"
   },
   "outputs": [
    {
     "data": {
      "text/plain": [
       "array([[0., 0., 0., 1., 0., 0.],\n",
       "       [0., 0., 0., 1., 0., 0.],\n",
       "       [0., 0., 1., 0., 0., 0.],\n",
       "       [0., 1., 0., 0., 0., 0.],\n",
       "       [1., 0., 0., 0., 0., 0.],\n",
       "       [1., 0., 0., 0., 0., 0.]], dtype=float32)"
      ]
     },
     "execution_count": 56,
     "metadata": {},
     "output_type": "execute_result"
    }
   ],
   "source": [
    "Y_val_f[:6]"
   ]
  },
  {
   "cell_type": "code",
   "execution_count": 57,
   "metadata": {
    "id": "fTW2fLQZU8rx"
   },
   "outputs": [],
   "source": [
    "from keras.models import Sequential\n",
    "from keras.layers import LSTM,Bidirectional,Dense,Embedding,Dropout\n"
   ]
  },
  {
   "cell_type": "markdown",
   "metadata": {
    "id": "zzZgSic_4mb8"
   },
   "source": [
    "# Creating a Model"
   ]
  },
  {
   "cell_type": "code",
   "execution_count": 58,
   "metadata": {
    "id": "F_tdJHIDVLqA",
    "outputId": "7ae62ccd-8288-4e6b-b614-c8080cd51a2a"
   },
   "outputs": [
    {
     "name": "stdout",
     "output_type": "stream",
     "text": [
      "Model: \"sequential_2\"\n",
      "_________________________________________________________________\n",
      " Layer (type)                Output Shape              Param #   \n",
      "=================================================================\n",
      " embedding_1 (Embedding)     (None, 80, 64)            973632    \n",
      "                                                                 \n",
      " dropout_1 (Dropout)         (None, 80, 64)            0         \n",
      "                                                                 \n",
      " bidirectional_2 (Bidirectio  (None, 80, 160)          92800     \n",
      " nal)                                                            \n",
      "                                                                 \n",
      " bidirectional_3 (Bidirectio  (None, 320)              410880    \n",
      " nal)                                                            \n",
      "                                                                 \n",
      " dense_1 (Dense)             (None, 6)                 1926      \n",
      "                                                                 \n",
      "=================================================================\n",
      "Total params: 1,479,238\n",
      "Trainable params: 1,479,238\n",
      "Non-trainable params: 0\n",
      "_________________________________________________________________\n",
      "None\n"
     ]
    }
   ],
   "source": [
    "model=Sequential()\n",
    "#each layer of words = 15213, and max length= 80\n",
    "model.add(Embedding(words,64,input_length=80))\n",
    "#poll datat \n",
    "model.add(Dropout(0.6))\n",
    "#apply the BLSTM with the length\n",
    "model.add(Bidirectional(LSTM(80,return_sequences=True)))\n",
    "model.add(Bidirectional(LSTM(160)))\n",
    "model.add(Dense(6,activation='softmax'))\n",
    "print(model.summary())"
   ]
  },
  {
   "cell_type": "markdown",
   "metadata": {
    "id": "lQwbhHiO4rM7"
   },
   "source": [
    "# Compiling and running the model"
   ]
  },
  {
   "cell_type": "code",
   "execution_count": 59,
   "metadata": {
    "id": "_KYfMEyXVxK2"
   },
   "outputs": [],
   "source": [
    "model.compile(optimizer='adam',loss='categorical_crossentropy',metrics=['accuracy'])"
   ]
  },
  {
   "cell_type": "code",
   "execution_count": 60,
   "metadata": {
    "id": "J5UxHV4EV_qA",
    "outputId": "c1760502-94ff-4f81-9ead-59ddddab1149"
   },
   "outputs": [
    {
     "name": "stdout",
     "output_type": "stream",
     "text": [
      "Epoch 1/12\n",
      "500/500 [==============================] - 77s 140ms/step - loss: 1.2476 - accuracy: 0.5173 - val_loss: 0.7142 - val_accuracy: 0.7480\n",
      "Epoch 2/12\n",
      "500/500 [==============================] - 68s 135ms/step - loss: 0.4921 - accuracy: 0.8265 - val_loss: 0.3139 - val_accuracy: 0.8965\n",
      "Epoch 3/12\n",
      "500/500 [==============================] - 67s 133ms/step - loss: 0.2944 - accuracy: 0.8970 - val_loss: 0.2556 - val_accuracy: 0.9075\n",
      "Epoch 4/12\n",
      "500/500 [==============================] - 67s 134ms/step - loss: 0.2155 - accuracy: 0.9231 - val_loss: 0.2246 - val_accuracy: 0.9165\n",
      "Epoch 5/12\n",
      "500/500 [==============================] - 71s 141ms/step - loss: 0.1873 - accuracy: 0.9321 - val_loss: 0.2144 - val_accuracy: 0.9245\n",
      "Epoch 6/12\n",
      "500/500 [==============================] - 75s 150ms/step - loss: 0.1394 - accuracy: 0.9482 - val_loss: 0.1967 - val_accuracy: 0.9250\n",
      "Epoch 7/12\n",
      "500/500 [==============================] - 77s 153ms/step - loss: 0.1262 - accuracy: 0.9541 - val_loss: 0.2196 - val_accuracy: 0.9225\n",
      "Epoch 8/12\n",
      "500/500 [==============================] - 77s 153ms/step - loss: 0.1066 - accuracy: 0.9591 - val_loss: 0.2028 - val_accuracy: 0.9265\n",
      "Epoch 9/12\n",
      "500/500 [==============================] - 78s 156ms/step - loss: 0.0966 - accuracy: 0.9639 - val_loss: 0.2084 - val_accuracy: 0.9265\n",
      "Epoch 10/12\n",
      "500/500 [==============================] - 75s 151ms/step - loss: 0.0875 - accuracy: 0.9672 - val_loss: 0.2188 - val_accuracy: 0.9250\n",
      "Epoch 11/12\n",
      "500/500 [==============================] - 76s 153ms/step - loss: 0.0834 - accuracy: 0.9701 - val_loss: 0.2086 - val_accuracy: 0.9265\n",
      "Epoch 12/12\n",
      "500/500 [==============================] - 100s 200ms/step - loss: 0.0718 - accuracy: 0.9724 - val_loss: 0.2179 - val_accuracy: 0.9285\n"
     ]
    }
   ],
   "source": [
    "hist=model.fit(X_train_pad,Y_train_f,epochs=12,validation_data=(X_val_pad,Y_val_f))"
   ]
  },
  {
   "cell_type": "markdown",
   "metadata": {},
   "source": [
    "# Plotting the Loss and Accuracy Curves"
   ]
  },
  {
   "cell_type": "code",
   "execution_count": 61,
   "metadata": {
    "id": "r9ZX9npB95PY",
    "outputId": "9e3a5747-bc0e-4063-8ae5-6d047d6b94b6"
   },
   "outputs": [
    {
     "data": {
      "image/png": "[encoded data removed]",
      "text/plain": [
       "<Figure size 640x480 with 1 Axes>"
      ]
     },
     "metadata": {},
     "output_type": "display_data"
    }
   ],
   "source": [
    "plt.plot(hist.history['accuracy'],c='b',label='train')\n",
    "plt.plot(hist.history['val_accuracy'],c='r',label='validation')\n",
    "plt.legend(loc='lower right')\n",
    "plt.show()"
   ]
  },
  {
   "cell_type": "code",
   "execution_count": 62,
   "metadata": {
    "id": "DPXjVCJe-dLM",
    "outputId": "f520d1fa-d97f-4c03-f4da-1ef837a0f8d1"
   },
   "outputs": [
    {
     "data": {
      "image/png": "[encoded data removed]",
      "text/plain": [
       "<Figure size 640x480 with 1 Axes>"
      ]
     },
     "metadata": {},
     "output_type": "display_data"
    }
   ],
   "source": [
    "plt.plot(hist.history['loss'],c='orange',label='train')\n",
    "plt.plot(hist.history['val_loss'],c='g',label='validation')\n",
    "plt.legend(loc='upper right')\n",
    "plt.show()"
   ]
  },
  {
   "cell_type": "markdown",
   "metadata": {
    "id": "T8wkWWRM4wj5"
   },
   "source": [
    "# Checking for Test Data"
   ]
  },
  {
   "cell_type": "code",
   "execution_count": 63,
   "metadata": {
    "id": "qiqCoFvpWFlI"
   },
   "outputs": [],
   "source": [
    "X_test=df_test['Input']\n",
    "Y_test=df_test.sents.replace({'joy':0,'anger':1,'love':2,'sadness':3,'fear':4,'surprise':5})"
   ]
  },
  {
   "cell_type": "code",
   "execution_count": 64,
   "metadata": {
    "id": "a_puRzZNaI_i"
   },
   "outputs": [],
   "source": [
    "X_test_f=tokenizer.texts_to_sequences(X_test)\n",
    "X_test_pad=pad_sequences(X_test_f,maxlen=80,padding='post')"
   ]
  },
  {
   "cell_type": "code",
   "execution_count": 65,
   "metadata": {
    "id": "ZWeCFXqBaUeF"
   },
   "outputs": [],
   "source": [
    "Y_test_f=to_categorical(Y_test)"
   ]
  },
  {
   "cell_type": "code",
   "execution_count": 66,
   "metadata": {
    "id": "iVhdSBnWcV3q",
    "outputId": "0aaf8ab6-ba10-4816-94be-fdddaeeb2eda"
   },
   "outputs": [
    {
     "data": {
      "text/plain": [
       "(2000, 80)"
      ]
     },
     "execution_count": 66,
     "metadata": {},
     "output_type": "execute_result"
    }
   ],
   "source": [
    "X_test_pad.shape"
   ]
  },
  {
   "cell_type": "code",
   "execution_count": 67,
   "metadata": {
    "id": "K2gXQ80oaaok",
    "outputId": "747bf3f0-3126-4ea2-b730-a832de1447ff"
   },
   "outputs": [
    {
     "data": {
      "text/plain": [
       "array([[0., 0., 0., 1., 0., 0.],\n",
       "       [0., 0., 0., 1., 0., 0.],\n",
       "       [0., 0., 0., 1., 0., 0.],\n",
       "       [1., 0., 0., 0., 0., 0.],\n",
       "       [0., 0., 0., 1., 0., 0.],\n",
       "       [0., 0., 0., 0., 1., 0.],\n",
       "       [0., 1., 0., 0., 0., 0.]], dtype=float32)"
      ]
     },
     "execution_count": 67,
     "metadata": {},
     "output_type": "execute_result"
    }
   ],
   "source": [
    "Y_test_f[:7]"
   ]
  },
  {
   "cell_type": "markdown",
   "metadata": {
    "id": "KI2H_6jh444s"
   },
   "source": [
    "## Accuracy for Test Data, over the train data"
   ]
  },
  {
   "cell_type": "code",
   "execution_count": 68,
   "metadata": {
    "id": "PWY-3GJSacff",
    "outputId": "b28b942e-d800-4469-cc29-fbdbfedfb1e9"
   },
   "outputs": [
    {
     "name": "stdout",
     "output_type": "stream",
     "text": [
      "63/63 [==============================] - 3s 54ms/step - loss: 0.2245 - accuracy: 0.9230\n"
     ]
    },
    {
     "data": {
      "text/plain": [
       "[0.22449447214603424, 0.9229999780654907]"
      ]
     },
     "execution_count": 68,
     "metadata": {},
     "output_type": "execute_result"
    }
   ],
   "source": [
    "model.evaluate(X_test_pad,Y_test_f)"
   ]
  },
  {
   "cell_type": "markdown",
   "metadata": {},
   "source": [
    "## Save the model after trainning"
   ]
  },
  {
   "cell_type": "code",
   "execution_count": 69,
   "metadata": {},
   "outputs": [],
   "source": [
    "#for later use without trainning\n",
    "model.save('model.h5')"
   ]
  },
  {
   "cell_type": "markdown",
   "metadata": {
    "id": "5SG8AtHq48uQ"
   },
   "source": [
    "# Creating a Function to check for Your own Sentence"
   ]
  },
  {
   "cell_type": "code",
   "execution_count": 73,
   "metadata": {},
   "outputs": [],
   "source": [
    "#Load the model \n",
    "from tensorflow.keras.models import load_model\n",
    "\n",
    "# Load the saved model\n",
    "loaded_model = load_model('model.h5')\n"
   ]
  },
  {
   "cell_type": "code",
   "execution_count": 79,
   "metadata": {
    "id": "N4vDT3Eeft2i"
   },
   "outputs": [],
   "source": [
    "def get_key(value):\n",
    "    dictionary = {'joy': 0, 'anger': 1, 'love': 2, 'sadness': 3, 'fear': 4, 'surprise': 5}\n",
    "    max_index = np.argmax(value)\n",
    "    for key, val in dictionary.items():\n",
    "        if val == max_index:\n",
    "            return key\n",
    "\n"
   ]
  },
  {
   "cell_type": "code",
   "execution_count": 84,
   "metadata": {
    "id": "AQuJATahalLP"
   },
   "outputs": [],
   "source": [
    "def predict(sentence):\n",
    "  sentence_lst=[]\n",
    "  sentence_lst.append(sentence)\n",
    "  sentence_seq=tokenizer.texts_to_sequences(sentence_lst)\n",
    "  sentence_padded=pad_sequences(sentence_seq,maxlen=80,padding='post')\n",
    "    # used the saved model\n",
    "  ans=get_key(loaded_model.predict(sentence_padded))\n",
    "  print(\"The emotion predicted is\",ans)"
   ]
  },
  {
   "cell_type": "markdown",
   "metadata": {
    "id": "J1_JYp1N5CFm"
   },
   "source": [
    "# Check for Your Own Sentence"
   ]
  },
  {
   "cell_type": "code",
   "execution_count": 81,
   "metadata": {
    "id": "VcTTjsficgqf",
    "outputId": "3e5e5d52-08eb-4c7c-b092-22b437bfe787"
   },
   "outputs": [
    {
     "name": "stdout",
     "output_type": "stream",
     "text": [
      "Enter a sentence : happy\n",
      "1/1 [==============================] - 0s 45ms/step\n",
      "The emotion predicted is joy\n"
     ]
    }
   ],
   "source": [
    "predict(str(input('Enter a sentence : ')))\n"
   ]
  },
  {
   "cell_type": "code",
   "execution_count": 82,
   "metadata": {
    "id": "_hiYzFqN_h_-",
    "outputId": "3f96cb05-e759-48d8-eba8-94f7d1ed84b3"
   },
   "outputs": [
    {
     "name": "stdout",
     "output_type": "stream",
     "text": [
      "Enter a sentence : I'm sad\n",
      "1/1 [==============================] - 0s 44ms/step\n",
      "The emotion predicted is sadness\n"
     ]
    }
   ],
   "source": [
    "predict(str(input('Enter a sentence : ')))\n"
   ]
  },
  {
   "cell_type": "code",
   "execution_count": 83,
   "metadata": {},
   "outputs": [
    {
     "name": "stdout",
     "output_type": "stream",
     "text": [
      "Enter a sentence : I can be a hero\n",
      "1/1 [==============================] - 0s 40ms/step\n",
      "The emotion predicted is fear\n"
     ]
    }
   ],
   "source": [
    "predict(str(input('Enter a sentence : ')))\n"
   ]
  }
 ],
 "metadata": {
  "kernelspec": {
   "display_name": "Python 3 (ipykernel)",
   "language": "python",
   "name": "python3"
  },
  "language_info": {
   "codemirror_mode": {
    "name": "ipython",
    "version": 3
   },
   "file_extension": ".py",
   "mimetype": "text/x-python",
   "name": "python",
   "nbconvert_exporter": "python",
   "pygments_lexer": "ipython3",
   "version": "3.10.9"
  }
 },
 "nbformat": 4,
 "nbformat_minor": 4
}
